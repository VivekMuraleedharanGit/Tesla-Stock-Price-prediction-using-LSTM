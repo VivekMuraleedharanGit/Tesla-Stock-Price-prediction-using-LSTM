{
  "nbformat": 4,
  "nbformat_minor": 0,
  "metadata": {
    "colab": {
      "name": "Tesla stock prediction.ipynb",
      "provenance": []
    },
    "kernelspec": {
      "name": "python3",
      "display_name": "Python 3"
    },
    "accelerator": "GPU"
  },
  "cells": [
    {
      "cell_type": "markdown",
      "metadata": {
        "id": "9w21lZgyEsRy"
      },
      "source": [
        "Objective of this problem is to predict the closing price of Tesla stocks. \r\n",
        "We have Tesla price from 2010 July to 2017 March in the data set.\r\n",
        "\r\n",
        "In this notebook I'm trying to predict the closing price of Tesla in the year of 2017 with the help of LSTM model"
      ]
    },
    {
      "cell_type": "code",
      "metadata": {
        "id": "9SLWJ6vTVX7d"
      },
      "source": [
        "import pandas as pd\r\n",
        "import numpy as np\r\n",
        "import matplotlib.pyplot as plt\r\n",
        "import seaborn as sns"
      ],
      "execution_count": 2,
      "outputs": []
    },
    {
      "cell_type": "code",
      "metadata": {
        "colab": {
          "base_uri": "https://localhost:8080/",
          "height": 204
        },
        "id": "jlfTmVk1V0jw",
        "outputId": "c20b6577-450b-4c35-8100-0979a5151b4f"
      },
      "source": [
        "data = pd.read_csv('/content/drive/MyDrive/Finance/Tesla.csv - Tesla.csv.csv')\r\n",
        "data.head()"
      ],
      "execution_count": 3,
      "outputs": [
        {
          "output_type": "execute_result",
          "data": {
            "text/html": [
              "<div>\n",
              "<style scoped>\n",
              "    .dataframe tbody tr th:only-of-type {\n",
              "        vertical-align: middle;\n",
              "    }\n",
              "\n",
              "    .dataframe tbody tr th {\n",
              "        vertical-align: top;\n",
              "    }\n",
              "\n",
              "    .dataframe thead th {\n",
              "        text-align: right;\n",
              "    }\n",
              "</style>\n",
              "<table border=\"1\" class=\"dataframe\">\n",
              "  <thead>\n",
              "    <tr style=\"text-align: right;\">\n",
              "      <th></th>\n",
              "      <th>Date</th>\n",
              "      <th>Open</th>\n",
              "      <th>High</th>\n",
              "      <th>Low</th>\n",
              "      <th>Close</th>\n",
              "      <th>Volume</th>\n",
              "      <th>Adj Close</th>\n",
              "    </tr>\n",
              "  </thead>\n",
              "  <tbody>\n",
              "    <tr>\n",
              "      <th>0</th>\n",
              "      <td>6/29/2010</td>\n",
              "      <td>19.000000</td>\n",
              "      <td>25.00</td>\n",
              "      <td>17.540001</td>\n",
              "      <td>23.889999</td>\n",
              "      <td>18766300</td>\n",
              "      <td>23.889999</td>\n",
              "    </tr>\n",
              "    <tr>\n",
              "      <th>1</th>\n",
              "      <td>6/30/2010</td>\n",
              "      <td>25.790001</td>\n",
              "      <td>30.42</td>\n",
              "      <td>23.299999</td>\n",
              "      <td>23.830000</td>\n",
              "      <td>17187100</td>\n",
              "      <td>23.830000</td>\n",
              "    </tr>\n",
              "    <tr>\n",
              "      <th>2</th>\n",
              "      <td>7/1/2010</td>\n",
              "      <td>25.000000</td>\n",
              "      <td>25.92</td>\n",
              "      <td>20.270000</td>\n",
              "      <td>21.959999</td>\n",
              "      <td>8218800</td>\n",
              "      <td>21.959999</td>\n",
              "    </tr>\n",
              "    <tr>\n",
              "      <th>3</th>\n",
              "      <td>7/2/2010</td>\n",
              "      <td>23.000000</td>\n",
              "      <td>23.10</td>\n",
              "      <td>18.709999</td>\n",
              "      <td>19.200001</td>\n",
              "      <td>5139800</td>\n",
              "      <td>19.200001</td>\n",
              "    </tr>\n",
              "    <tr>\n",
              "      <th>4</th>\n",
              "      <td>7/6/2010</td>\n",
              "      <td>20.000000</td>\n",
              "      <td>20.00</td>\n",
              "      <td>15.830000</td>\n",
              "      <td>16.110001</td>\n",
              "      <td>6866900</td>\n",
              "      <td>16.110001</td>\n",
              "    </tr>\n",
              "  </tbody>\n",
              "</table>\n",
              "</div>"
            ],
            "text/plain": [
              "        Date       Open   High        Low      Close    Volume  Adj Close\n",
              "0  6/29/2010  19.000000  25.00  17.540001  23.889999  18766300  23.889999\n",
              "1  6/30/2010  25.790001  30.42  23.299999  23.830000  17187100  23.830000\n",
              "2   7/1/2010  25.000000  25.92  20.270000  21.959999   8218800  21.959999\n",
              "3   7/2/2010  23.000000  23.10  18.709999  19.200001   5139800  19.200001\n",
              "4   7/6/2010  20.000000  20.00  15.830000  16.110001   6866900  16.110001"
            ]
          },
          "metadata": {
            "tags": []
          },
          "execution_count": 3
        }
      ]
    },
    {
      "cell_type": "code",
      "metadata": {
        "colab": {
          "base_uri": "https://localhost:8080/",
          "height": 204
        },
        "id": "VQCCEPd7aJwi",
        "outputId": "505288da-88c2-4874-8b5e-c8d877024e44"
      },
      "source": [
        "data.tail()"
      ],
      "execution_count": 4,
      "outputs": [
        {
          "output_type": "execute_result",
          "data": {
            "text/html": [
              "<div>\n",
              "<style scoped>\n",
              "    .dataframe tbody tr th:only-of-type {\n",
              "        vertical-align: middle;\n",
              "    }\n",
              "\n",
              "    .dataframe tbody tr th {\n",
              "        vertical-align: top;\n",
              "    }\n",
              "\n",
              "    .dataframe thead th {\n",
              "        text-align: right;\n",
              "    }\n",
              "</style>\n",
              "<table border=\"1\" class=\"dataframe\">\n",
              "  <thead>\n",
              "    <tr style=\"text-align: right;\">\n",
              "      <th></th>\n",
              "      <th>Date</th>\n",
              "      <th>Open</th>\n",
              "      <th>High</th>\n",
              "      <th>Low</th>\n",
              "      <th>Close</th>\n",
              "      <th>Volume</th>\n",
              "      <th>Adj Close</th>\n",
              "    </tr>\n",
              "  </thead>\n",
              "  <tbody>\n",
              "    <tr>\n",
              "      <th>1687</th>\n",
              "      <td>3/13/2017</td>\n",
              "      <td>244.820007</td>\n",
              "      <td>246.850006</td>\n",
              "      <td>242.779999</td>\n",
              "      <td>246.169998</td>\n",
              "      <td>3010700</td>\n",
              "      <td>246.169998</td>\n",
              "    </tr>\n",
              "    <tr>\n",
              "      <th>1688</th>\n",
              "      <td>3/14/2017</td>\n",
              "      <td>246.110001</td>\n",
              "      <td>258.119995</td>\n",
              "      <td>246.020004</td>\n",
              "      <td>258.000000</td>\n",
              "      <td>7575500</td>\n",
              "      <td>258.000000</td>\n",
              "    </tr>\n",
              "    <tr>\n",
              "      <th>1689</th>\n",
              "      <td>3/15/2017</td>\n",
              "      <td>257.000000</td>\n",
              "      <td>261.000000</td>\n",
              "      <td>254.270004</td>\n",
              "      <td>255.729996</td>\n",
              "      <td>4816600</td>\n",
              "      <td>255.729996</td>\n",
              "    </tr>\n",
              "    <tr>\n",
              "      <th>1690</th>\n",
              "      <td>3/16/2017</td>\n",
              "      <td>262.399994</td>\n",
              "      <td>265.750000</td>\n",
              "      <td>259.059998</td>\n",
              "      <td>262.049988</td>\n",
              "      <td>7100400</td>\n",
              "      <td>262.049988</td>\n",
              "    </tr>\n",
              "    <tr>\n",
              "      <th>1691</th>\n",
              "      <td>3/17/2017</td>\n",
              "      <td>264.000000</td>\n",
              "      <td>265.329987</td>\n",
              "      <td>261.200012</td>\n",
              "      <td>261.500000</td>\n",
              "      <td>6475900</td>\n",
              "      <td>261.500000</td>\n",
              "    </tr>\n",
              "  </tbody>\n",
              "</table>\n",
              "</div>"
            ],
            "text/plain": [
              "           Date        Open        High  ...       Close   Volume   Adj Close\n",
              "1687  3/13/2017  244.820007  246.850006  ...  246.169998  3010700  246.169998\n",
              "1688  3/14/2017  246.110001  258.119995  ...  258.000000  7575500  258.000000\n",
              "1689  3/15/2017  257.000000  261.000000  ...  255.729996  4816600  255.729996\n",
              "1690  3/16/2017  262.399994  265.750000  ...  262.049988  7100400  262.049988\n",
              "1691  3/17/2017  264.000000  265.329987  ...  261.500000  6475900  261.500000\n",
              "\n",
              "[5 rows x 7 columns]"
            ]
          },
          "metadata": {
            "tags": []
          },
          "execution_count": 4
        }
      ]
    },
    {
      "cell_type": "markdown",
      "metadata": {
        "id": "o6obPm8lWv4o"
      },
      "source": [
        "The data set consisits of stock price of Tesla company from 2010 JULY to 2017 March include opening price and closing price each day\r\n",
        "\r\n",
        "We will use the 2017 values for testing and rest of the data for the trainig purpose here"
      ]
    },
    {
      "cell_type": "markdown",
      "metadata": {
        "id": "OyMlgtNgfI7E"
      },
      "source": [
        "in the data set I'm using only the date and closing price as variables in model trainig we can ignore the other variables"
      ]
    },
    {
      "cell_type": "code",
      "metadata": {
        "colab": {
          "base_uri": "https://localhost:8080/"
        },
        "id": "B0ThSUh9Waex",
        "outputId": "1c580834-bfda-4cfa-9a0b-29fdd1bb84c8"
      },
      "source": [
        "data.shape"
      ],
      "execution_count": 5,
      "outputs": [
        {
          "output_type": "execute_result",
          "data": {
            "text/plain": [
              "(1692, 7)"
            ]
          },
          "metadata": {
            "tags": []
          },
          "execution_count": 5
        }
      ]
    },
    {
      "cell_type": "code",
      "metadata": {
        "id": "SW9WTguYatPH"
      },
      "source": [
        "cols = ['Date','Close']\r\n",
        "data= data[cols]"
      ],
      "execution_count": 6,
      "outputs": []
    },
    {
      "cell_type": "code",
      "metadata": {
        "colab": {
          "base_uri": "https://localhost:8080/",
          "height": 204
        },
        "id": "JzsbjdCbfdkg",
        "outputId": "87a42f05-2be2-4b5e-f6e9-21a04b2d0ba9"
      },
      "source": [
        "data.head()"
      ],
      "execution_count": 7,
      "outputs": [
        {
          "output_type": "execute_result",
          "data": {
            "text/html": [
              "<div>\n",
              "<style scoped>\n",
              "    .dataframe tbody tr th:only-of-type {\n",
              "        vertical-align: middle;\n",
              "    }\n",
              "\n",
              "    .dataframe tbody tr th {\n",
              "        vertical-align: top;\n",
              "    }\n",
              "\n",
              "    .dataframe thead th {\n",
              "        text-align: right;\n",
              "    }\n",
              "</style>\n",
              "<table border=\"1\" class=\"dataframe\">\n",
              "  <thead>\n",
              "    <tr style=\"text-align: right;\">\n",
              "      <th></th>\n",
              "      <th>Date</th>\n",
              "      <th>Close</th>\n",
              "    </tr>\n",
              "  </thead>\n",
              "  <tbody>\n",
              "    <tr>\n",
              "      <th>0</th>\n",
              "      <td>6/29/2010</td>\n",
              "      <td>23.889999</td>\n",
              "    </tr>\n",
              "    <tr>\n",
              "      <th>1</th>\n",
              "      <td>6/30/2010</td>\n",
              "      <td>23.830000</td>\n",
              "    </tr>\n",
              "    <tr>\n",
              "      <th>2</th>\n",
              "      <td>7/1/2010</td>\n",
              "      <td>21.959999</td>\n",
              "    </tr>\n",
              "    <tr>\n",
              "      <th>3</th>\n",
              "      <td>7/2/2010</td>\n",
              "      <td>19.200001</td>\n",
              "    </tr>\n",
              "    <tr>\n",
              "      <th>4</th>\n",
              "      <td>7/6/2010</td>\n",
              "      <td>16.110001</td>\n",
              "    </tr>\n",
              "  </tbody>\n",
              "</table>\n",
              "</div>"
            ],
            "text/plain": [
              "        Date      Close\n",
              "0  6/29/2010  23.889999\n",
              "1  6/30/2010  23.830000\n",
              "2   7/1/2010  21.959999\n",
              "3   7/2/2010  19.200001\n",
              "4   7/6/2010  16.110001"
            ]
          },
          "metadata": {
            "tags": []
          },
          "execution_count": 7
        }
      ]
    },
    {
      "cell_type": "code",
      "metadata": {
        "colab": {
          "base_uri": "https://localhost:8080/"
        },
        "id": "nPW_HoU2fnof",
        "outputId": "760bff48-4662-45be-f3fa-f8a222a73503"
      },
      "source": [
        "data.isnull().sum()"
      ],
      "execution_count": 8,
      "outputs": [
        {
          "output_type": "execute_result",
          "data": {
            "text/plain": [
              "Date     0\n",
              "Close    0\n",
              "dtype: int64"
            ]
          },
          "metadata": {
            "tags": []
          },
          "execution_count": 8
        }
      ]
    },
    {
      "cell_type": "markdown",
      "metadata": {
        "id": "49XILCtngb5k"
      },
      "source": [
        "the data doesnt have any null values"
      ]
    },
    {
      "cell_type": "code",
      "metadata": {
        "colab": {
          "base_uri": "https://localhost:8080/"
        },
        "id": "Tua_wpWJffRO",
        "outputId": "eaba85c5-b8ba-4343-9bd4-80db32457b84"
      },
      "source": [
        "data.info()"
      ],
      "execution_count": 9,
      "outputs": [
        {
          "output_type": "stream",
          "text": [
            "<class 'pandas.core.frame.DataFrame'>\n",
            "RangeIndex: 1692 entries, 0 to 1691\n",
            "Data columns (total 2 columns):\n",
            " #   Column  Non-Null Count  Dtype  \n",
            "---  ------  --------------  -----  \n",
            " 0   Date    1692 non-null   object \n",
            " 1   Close   1692 non-null   float64\n",
            "dtypes: float64(1), object(1)\n",
            "memory usage: 26.6+ KB\n"
          ],
          "name": "stdout"
        }
      ]
    },
    {
      "cell_type": "markdown",
      "metadata": {
        "id": "yfaGW0vuftTN"
      },
      "source": [
        "The date column is in object and need to convert into the date time format"
      ]
    },
    {
      "cell_type": "code",
      "metadata": {
        "id": "VQfW3tCpgZ1t"
      },
      "source": [
        "data['Date']= pd.to_datetime(data['Date'])"
      ],
      "execution_count": 10,
      "outputs": []
    },
    {
      "cell_type": "markdown",
      "metadata": {
        "id": "33Eg7ed7gv8c"
      },
      "source": [
        "now set the data sorted by the date column as index"
      ]
    },
    {
      "cell_type": "code",
      "metadata": {
        "colab": {
          "base_uri": "https://localhost:8080/"
        },
        "id": "SCwYYDysgBVi",
        "outputId": "a6fd5729-f699-46d3-dbd0-aed66fc59e2c"
      },
      "source": [
        "data.info()"
      ],
      "execution_count": 11,
      "outputs": [
        {
          "output_type": "stream",
          "text": [
            "<class 'pandas.core.frame.DataFrame'>\n",
            "RangeIndex: 1692 entries, 0 to 1691\n",
            "Data columns (total 2 columns):\n",
            " #   Column  Non-Null Count  Dtype         \n",
            "---  ------  --------------  -----         \n",
            " 0   Date    1692 non-null   datetime64[ns]\n",
            " 1   Close   1692 non-null   float64       \n",
            "dtypes: datetime64[ns](1), float64(1)\n",
            "memory usage: 26.6 KB\n"
          ],
          "name": "stdout"
        }
      ]
    },
    {
      "cell_type": "code",
      "metadata": {
        "id": "9_Qp5K3Lgpm2"
      },
      "source": [
        "data= data.set_index('Date')"
      ],
      "execution_count": 12,
      "outputs": []
    },
    {
      "cell_type": "code",
      "metadata": {
        "colab": {
          "base_uri": "https://localhost:8080/",
          "height": 235
        },
        "id": "1J0uQMLnhT5R",
        "outputId": "f5bda3ef-acfc-427b-88dd-ae56fd971ee6"
      },
      "source": [
        "data.head()"
      ],
      "execution_count": 13,
      "outputs": [
        {
          "output_type": "execute_result",
          "data": {
            "text/html": [
              "<div>\n",
              "<style scoped>\n",
              "    .dataframe tbody tr th:only-of-type {\n",
              "        vertical-align: middle;\n",
              "    }\n",
              "\n",
              "    .dataframe tbody tr th {\n",
              "        vertical-align: top;\n",
              "    }\n",
              "\n",
              "    .dataframe thead th {\n",
              "        text-align: right;\n",
              "    }\n",
              "</style>\n",
              "<table border=\"1\" class=\"dataframe\">\n",
              "  <thead>\n",
              "    <tr style=\"text-align: right;\">\n",
              "      <th></th>\n",
              "      <th>Close</th>\n",
              "    </tr>\n",
              "    <tr>\n",
              "      <th>Date</th>\n",
              "      <th></th>\n",
              "    </tr>\n",
              "  </thead>\n",
              "  <tbody>\n",
              "    <tr>\n",
              "      <th>2010-06-29</th>\n",
              "      <td>23.889999</td>\n",
              "    </tr>\n",
              "    <tr>\n",
              "      <th>2010-06-30</th>\n",
              "      <td>23.830000</td>\n",
              "    </tr>\n",
              "    <tr>\n",
              "      <th>2010-07-01</th>\n",
              "      <td>21.959999</td>\n",
              "    </tr>\n",
              "    <tr>\n",
              "      <th>2010-07-02</th>\n",
              "      <td>19.200001</td>\n",
              "    </tr>\n",
              "    <tr>\n",
              "      <th>2010-07-06</th>\n",
              "      <td>16.110001</td>\n",
              "    </tr>\n",
              "  </tbody>\n",
              "</table>\n",
              "</div>"
            ],
            "text/plain": [
              "                Close\n",
              "Date                 \n",
              "2010-06-29  23.889999\n",
              "2010-06-30  23.830000\n",
              "2010-07-01  21.959999\n",
              "2010-07-02  19.200001\n",
              "2010-07-06  16.110001"
            ]
          },
          "metadata": {
            "tags": []
          },
          "execution_count": 13
        }
      ]
    },
    {
      "cell_type": "markdown",
      "metadata": {
        "id": "pzpHXVoYh_Qz"
      },
      "source": [
        "**Exploratory Data Analysis**\r\n",
        "\r\n",
        "first will will split the data from 2017 we used for predictions "
      ]
    },
    {
      "cell_type": "code",
      "metadata": {
        "id": "B9rLhxIOhcAT"
      },
      "source": [
        "train_df=data.loc[:'12/30/2016']\r\n",
        "test_df = data.loc['1/3/2017':]"
      ],
      "execution_count": 14,
      "outputs": []
    },
    {
      "cell_type": "code",
      "metadata": {
        "colab": {
          "base_uri": "https://localhost:8080/",
          "height": 235
        },
        "id": "tI15Mjfzi9zC",
        "outputId": "e0f639ea-a301-407c-b767-fdcc631e1a3a"
      },
      "source": [
        "train_df.tail()"
      ],
      "execution_count": 15,
      "outputs": [
        {
          "output_type": "execute_result",
          "data": {
            "text/html": [
              "<div>\n",
              "<style scoped>\n",
              "    .dataframe tbody tr th:only-of-type {\n",
              "        vertical-align: middle;\n",
              "    }\n",
              "\n",
              "    .dataframe tbody tr th {\n",
              "        vertical-align: top;\n",
              "    }\n",
              "\n",
              "    .dataframe thead th {\n",
              "        text-align: right;\n",
              "    }\n",
              "</style>\n",
              "<table border=\"1\" class=\"dataframe\">\n",
              "  <thead>\n",
              "    <tr style=\"text-align: right;\">\n",
              "      <th></th>\n",
              "      <th>Close</th>\n",
              "    </tr>\n",
              "    <tr>\n",
              "      <th>Date</th>\n",
              "      <th></th>\n",
              "    </tr>\n",
              "  </thead>\n",
              "  <tbody>\n",
              "    <tr>\n",
              "      <th>2016-12-23</th>\n",
              "      <td>213.339996</td>\n",
              "    </tr>\n",
              "    <tr>\n",
              "      <th>2016-12-27</th>\n",
              "      <td>219.529999</td>\n",
              "    </tr>\n",
              "    <tr>\n",
              "      <th>2016-12-28</th>\n",
              "      <td>219.740005</td>\n",
              "    </tr>\n",
              "    <tr>\n",
              "      <th>2016-12-29</th>\n",
              "      <td>214.679993</td>\n",
              "    </tr>\n",
              "    <tr>\n",
              "      <th>2016-12-30</th>\n",
              "      <td>213.690002</td>\n",
              "    </tr>\n",
              "  </tbody>\n",
              "</table>\n",
              "</div>"
            ],
            "text/plain": [
              "                 Close\n",
              "Date                  \n",
              "2016-12-23  213.339996\n",
              "2016-12-27  219.529999\n",
              "2016-12-28  219.740005\n",
              "2016-12-29  214.679993\n",
              "2016-12-30  213.690002"
            ]
          },
          "metadata": {
            "tags": []
          },
          "execution_count": 15
        }
      ]
    },
    {
      "cell_type": "code",
      "metadata": {
        "colab": {
          "base_uri": "https://localhost:8080/",
          "height": 235
        },
        "id": "ippbXuk3nDjW",
        "outputId": "3f94deef-e834-4edc-904c-3a153b8f7404"
      },
      "source": [
        "test_df.head()"
      ],
      "execution_count": 16,
      "outputs": [
        {
          "output_type": "execute_result",
          "data": {
            "text/html": [
              "<div>\n",
              "<style scoped>\n",
              "    .dataframe tbody tr th:only-of-type {\n",
              "        vertical-align: middle;\n",
              "    }\n",
              "\n",
              "    .dataframe tbody tr th {\n",
              "        vertical-align: top;\n",
              "    }\n",
              "\n",
              "    .dataframe thead th {\n",
              "        text-align: right;\n",
              "    }\n",
              "</style>\n",
              "<table border=\"1\" class=\"dataframe\">\n",
              "  <thead>\n",
              "    <tr style=\"text-align: right;\">\n",
              "      <th></th>\n",
              "      <th>Close</th>\n",
              "    </tr>\n",
              "    <tr>\n",
              "      <th>Date</th>\n",
              "      <th></th>\n",
              "    </tr>\n",
              "  </thead>\n",
              "  <tbody>\n",
              "    <tr>\n",
              "      <th>2017-01-03</th>\n",
              "      <td>216.990005</td>\n",
              "    </tr>\n",
              "    <tr>\n",
              "      <th>2017-01-04</th>\n",
              "      <td>226.990005</td>\n",
              "    </tr>\n",
              "    <tr>\n",
              "      <th>2017-01-05</th>\n",
              "      <td>226.750000</td>\n",
              "    </tr>\n",
              "    <tr>\n",
              "      <th>2017-01-06</th>\n",
              "      <td>229.009995</td>\n",
              "    </tr>\n",
              "    <tr>\n",
              "      <th>2017-01-09</th>\n",
              "      <td>231.279999</td>\n",
              "    </tr>\n",
              "  </tbody>\n",
              "</table>\n",
              "</div>"
            ],
            "text/plain": [
              "                 Close\n",
              "Date                  \n",
              "2017-01-03  216.990005\n",
              "2017-01-04  226.990005\n",
              "2017-01-05  226.750000\n",
              "2017-01-06  229.009995\n",
              "2017-01-09  231.279999"
            ]
          },
          "metadata": {
            "tags": []
          },
          "execution_count": 16
        }
      ]
    },
    {
      "cell_type": "markdown",
      "metadata": {
        "id": "qMhd0LzIndum"
      },
      "source": [
        "We will plot the closing price w.r.t to time in train data"
      ]
    },
    {
      "cell_type": "code",
      "metadata": {
        "colab": {
          "base_uri": "https://localhost:8080/",
          "height": 513
        },
        "id": "gYzbuUJfnVGC",
        "outputId": "7ba186f0-93d3-451c-8416-094e8b88546d"
      },
      "source": [
        "plt.figure(figsize=[10,8])                                   # Setting the figure size\r\n",
        "plt.plot(train_df['Close'])                                  # Plotting the close price\r\n",
        "plt.xlabel(\"Date\")                                           # Setting the label in x-axis\r\n",
        "plt.ylabel(\"Close Price\")                                    # Setting the label in y-axis\r\n",
        "plt.title(\"Close Price Vs Date\")                             # Title\r\n",
        "plt.show()"
      ],
      "execution_count": 17,
      "outputs": [
        {
          "output_type": "display_data",
          "data": {
            "image/png": "[encoded data removed]",
            "text/plain": [
              "<Figure size 720x576 with 1 Axes>"
            ]
          },
          "metadata": {
            "tags": [],
            "needs_background": "light"
          }
        }
      ]
    },
    {
      "cell_type": "markdown",
      "metadata": {
        "id": "3Tin-vYZnwjL"
      },
      "source": [
        "We can see that the closing price increased after 2013 for Tesla very high \r\n",
        "and we can see that for prediciton need few data points in the previous value otherwise the model will fail to predicting the next closing price"
      ]
    },
    {
      "cell_type": "markdown",
      "metadata": {
        "id": "SfOY5gamqWa6"
      },
      "source": [
        "Also we need to do price normalisation here,since the closing price is not following a normal distribution so will use minmax scalar here for normalisaton"
      ]
    },
    {
      "cell_type": "code",
      "metadata": {
        "colab": {
          "base_uri": "https://localhost:8080/"
        },
        "id": "SER7TwxtnpkD",
        "outputId": "a0f2b9d3-4bc0-46a5-d72e-a31e6d228db3"
      },
      "source": [
        "len(train_df)"
      ],
      "execution_count": 18,
      "outputs": [
        {
          "output_type": "execute_result",
          "data": {
            "text/plain": [
              "1640"
            ]
          },
          "metadata": {
            "tags": []
          },
          "execution_count": 18
        }
      ]
    },
    {
      "cell_type": "markdown",
      "metadata": {
        "id": "rHO4irNbrHyH"
      },
      "source": [
        "We have 1640 days data in the training set "
      ]
    },
    {
      "cell_type": "markdown",
      "metadata": {
        "id": "XNGxM3yyrOW3"
      },
      "source": [
        "we will remove the last 30 days from the train and use those in validation set"
      ]
    },
    {
      "cell_type": "code",
      "metadata": {
        "colab": {
          "base_uri": "https://localhost:8080/",
          "height": 235
        },
        "id": "0PPSXw0zsDK0",
        "outputId": "e43b7935-b9be-499c-fca3-d45621530f06"
      },
      "source": [
        "train_df.head()"
      ],
      "execution_count": 19,
      "outputs": [
        {
          "output_type": "execute_result",
          "data": {
            "text/html": [
              "<div>\n",
              "<style scoped>\n",
              "    .dataframe tbody tr th:only-of-type {\n",
              "        vertical-align: middle;\n",
              "    }\n",
              "\n",
              "    .dataframe tbody tr th {\n",
              "        vertical-align: top;\n",
              "    }\n",
              "\n",
              "    .dataframe thead th {\n",
              "        text-align: right;\n",
              "    }\n",
              "</style>\n",
              "<table border=\"1\" class=\"dataframe\">\n",
              "  <thead>\n",
              "    <tr style=\"text-align: right;\">\n",
              "      <th></th>\n",
              "      <th>Close</th>\n",
              "    </tr>\n",
              "    <tr>\n",
              "      <th>Date</th>\n",
              "      <th></th>\n",
              "    </tr>\n",
              "  </thead>\n",
              "  <tbody>\n",
              "    <tr>\n",
              "      <th>2010-06-29</th>\n",
              "      <td>23.889999</td>\n",
              "    </tr>\n",
              "    <tr>\n",
              "      <th>2010-06-30</th>\n",
              "      <td>23.830000</td>\n",
              "    </tr>\n",
              "    <tr>\n",
              "      <th>2010-07-01</th>\n",
              "      <td>21.959999</td>\n",
              "    </tr>\n",
              "    <tr>\n",
              "      <th>2010-07-02</th>\n",
              "      <td>19.200001</td>\n",
              "    </tr>\n",
              "    <tr>\n",
              "      <th>2010-07-06</th>\n",
              "      <td>16.110001</td>\n",
              "    </tr>\n",
              "  </tbody>\n",
              "</table>\n",
              "</div>"
            ],
            "text/plain": [
              "                Close\n",
              "Date                 \n",
              "2010-06-29  23.889999\n",
              "2010-06-30  23.830000\n",
              "2010-07-01  21.959999\n",
              "2010-07-02  19.200001\n",
              "2010-07-06  16.110001"
            ]
          },
          "metadata": {
            "tags": []
          },
          "execution_count": 19
        }
      ]
    },
    {
      "cell_type": "code",
      "metadata": {
        "id": "06E2ggVsrDso"
      },
      "source": [
        "prediction_days = 30\r\n",
        "ts_train= train_df[:1610]       # Remove 30 days from the end for Training data\r\n",
        "ts_valid= train_df[1610:] "
      ],
      "execution_count": 20,
      "outputs": []
    },
    {
      "cell_type": "code",
      "metadata": {
        "colab": {
          "base_uri": "https://localhost:8080/"
        },
        "id": "yLX192Ja1W4d",
        "outputId": "e170e0e3-104b-457e-fa06-8679ae91bacf"
      },
      "source": [
        "ts_train.shape"
      ],
      "execution_count": 21,
      "outputs": [
        {
          "output_type": "execute_result",
          "data": {
            "text/plain": [
              "(1610, 1)"
            ]
          },
          "metadata": {
            "tags": []
          },
          "execution_count": 21
        }
      ]
    },
    {
      "cell_type": "code",
      "metadata": {
        "colab": {
          "base_uri": "https://localhost:8080/",
          "height": 235
        },
        "id": "Vrjb5zlkrsn8",
        "outputId": "9a26f950-b9b5-4ede-9558-d7755e6745d8"
      },
      "source": [
        "ts_train.tail()"
      ],
      "execution_count": 22,
      "outputs": [
        {
          "output_type": "execute_result",
          "data": {
            "text/html": [
              "<div>\n",
              "<style scoped>\n",
              "    .dataframe tbody tr th:only-of-type {\n",
              "        vertical-align: middle;\n",
              "    }\n",
              "\n",
              "    .dataframe tbody tr th {\n",
              "        vertical-align: top;\n",
              "    }\n",
              "\n",
              "    .dataframe thead th {\n",
              "        text-align: right;\n",
              "    }\n",
              "</style>\n",
              "<table border=\"1\" class=\"dataframe\">\n",
              "  <thead>\n",
              "    <tr style=\"text-align: right;\">\n",
              "      <th></th>\n",
              "      <th>Close</th>\n",
              "    </tr>\n",
              "    <tr>\n",
              "      <th>Date</th>\n",
              "      <th></th>\n",
              "    </tr>\n",
              "  </thead>\n",
              "  <tbody>\n",
              "    <tr>\n",
              "      <th>2016-11-10</th>\n",
              "      <td>185.350006</td>\n",
              "    </tr>\n",
              "    <tr>\n",
              "      <th>2016-11-11</th>\n",
              "      <td>188.559998</td>\n",
              "    </tr>\n",
              "    <tr>\n",
              "      <th>2016-11-14</th>\n",
              "      <td>181.449997</td>\n",
              "    </tr>\n",
              "    <tr>\n",
              "      <th>2016-11-15</th>\n",
              "      <td>183.770004</td>\n",
              "    </tr>\n",
              "    <tr>\n",
              "      <th>2016-11-16</th>\n",
              "      <td>183.929993</td>\n",
              "    </tr>\n",
              "  </tbody>\n",
              "</table>\n",
              "</div>"
            ],
            "text/plain": [
              "                 Close\n",
              "Date                  \n",
              "2016-11-10  185.350006\n",
              "2016-11-11  188.559998\n",
              "2016-11-14  181.449997\n",
              "2016-11-15  183.770004\n",
              "2016-11-16  183.929993"
            ]
          },
          "metadata": {
            "tags": []
          },
          "execution_count": 22
        }
      ]
    },
    {
      "cell_type": "code",
      "metadata": {
        "colab": {
          "base_uri": "https://localhost:8080/",
          "height": 235
        },
        "id": "iYS0B140ru82",
        "outputId": "c3717dc0-390f-43f6-ec4f-c02848c4bd05"
      },
      "source": [
        "ts_valid.head()"
      ],
      "execution_count": 23,
      "outputs": [
        {
          "output_type": "execute_result",
          "data": {
            "text/html": [
              "<div>\n",
              "<style scoped>\n",
              "    .dataframe tbody tr th:only-of-type {\n",
              "        vertical-align: middle;\n",
              "    }\n",
              "\n",
              "    .dataframe tbody tr th {\n",
              "        vertical-align: top;\n",
              "    }\n",
              "\n",
              "    .dataframe thead th {\n",
              "        text-align: right;\n",
              "    }\n",
              "</style>\n",
              "<table border=\"1\" class=\"dataframe\">\n",
              "  <thead>\n",
              "    <tr style=\"text-align: right;\">\n",
              "      <th></th>\n",
              "      <th>Close</th>\n",
              "    </tr>\n",
              "    <tr>\n",
              "      <th>Date</th>\n",
              "      <th></th>\n",
              "    </tr>\n",
              "  </thead>\n",
              "  <tbody>\n",
              "    <tr>\n",
              "      <th>2016-11-17</th>\n",
              "      <td>188.660004</td>\n",
              "    </tr>\n",
              "    <tr>\n",
              "      <th>2016-11-18</th>\n",
              "      <td>185.020004</td>\n",
              "    </tr>\n",
              "    <tr>\n",
              "      <th>2016-11-21</th>\n",
              "      <td>184.520004</td>\n",
              "    </tr>\n",
              "    <tr>\n",
              "      <th>2016-11-22</th>\n",
              "      <td>191.169998</td>\n",
              "    </tr>\n",
              "    <tr>\n",
              "      <th>2016-11-23</th>\n",
              "      <td>193.139999</td>\n",
              "    </tr>\n",
              "  </tbody>\n",
              "</table>\n",
              "</div>"
            ],
            "text/plain": [
              "                 Close\n",
              "Date                  \n",
              "2016-11-17  188.660004\n",
              "2016-11-18  185.020004\n",
              "2016-11-21  184.520004\n",
              "2016-11-22  191.169998\n",
              "2016-11-23  193.139999"
            ]
          },
          "metadata": {
            "tags": []
          },
          "execution_count": 23
        }
      ]
    },
    {
      "cell_type": "code",
      "metadata": {
        "id": "_xu-nCCxrxxn"
      },
      "source": [
        "from keras.models import Sequential                   # Sequential model\r\n",
        "from keras.layers import Dense                        # For fully connected layers\r\n",
        "from keras.layers import LSTM                         # For LSTM layers\r\n",
        "from sklearn.preprocessing import MinMaxScaler        # Scaling the data\r\n",
        "min_max_scaler = MinMaxScaler()"
      ],
      "execution_count": 24,
      "outputs": []
    },
    {
      "cell_type": "code",
      "metadata": {
        "id": "tigy3kCTu1z-"
      },
      "source": [
        "training_set=ts_train.values\r\n",
        "training_set = min_max_scaler.fit_transform(training_set)"
      ],
      "execution_count": 25,
      "outputs": []
    },
    {
      "cell_type": "markdown",
      "metadata": {
        "id": "gpYRIy-mvLT9"
      },
      "source": [
        "Defining our X and y\r\n",
        "X is our inputs which is the training data.\r\n",
        "y is the output, which is training data shifted by 1day\r\n",
        "\r\n",
        "For a given day, we want to predict the stock value for the next day."
      ]
    },
    {
      "cell_type": "code",
      "metadata": {
        "id": "JOpScxDvvF-x"
      },
      "source": [
        "x_train=training_set[0:len(training_set)-1]\r\n",
        "y_train=training_set[1:len(training_set)]"
      ],
      "execution_count": 83,
      "outputs": []
    },
    {
      "cell_type": "code",
      "metadata": {
        "colab": {
          "base_uri": "https://localhost:8080/"
        },
        "id": "t5GztYzovUTC",
        "outputId": "d8677707-540d-483d-edf8-546cb89241f8"
      },
      "source": [
        "x_train[:5]"
      ],
      "execution_count": 27,
      "outputs": [
        {
          "output_type": "execute_result",
          "data": {
            "text/plain": [
              "array([[0.02993635],\n",
              "       [0.02971433],\n",
              "       [0.02279455],\n",
              "       [0.01258141],\n",
              "       [0.00114713]])"
            ]
          },
          "metadata": {
            "tags": []
          },
          "execution_count": 27
        }
      ]
    },
    {
      "cell_type": "code",
      "metadata": {
        "colab": {
          "base_uri": "https://localhost:8080/"
        },
        "id": "K6U3JnmfvZSF",
        "outputId": "9e1bad6b-e153-4176-aa51-530c311213b6"
      },
      "source": [
        "y_train[:5]"
      ],
      "execution_count": 28,
      "outputs": [
        {
          "output_type": "execute_result",
          "data": {
            "text/plain": [
              "array([[0.02971433],\n",
              "       [0.02279455],\n",
              "       [0.01258141],\n",
              "       [0.00114713],\n",
              "       [0.        ]])"
            ]
          },
          "metadata": {
            "tags": []
          },
          "execution_count": 28
        }
      ]
    },
    {
      "cell_type": "code",
      "metadata": {
        "colab": {
          "base_uri": "https://localhost:8080/"
        },
        "id": "nLqdPT3lvdCs",
        "outputId": "9e995876-785e-4677-b3ee-35c580b90ed4"
      },
      "source": [
        "len(x_train),len(y_train)"
      ],
      "execution_count": 29,
      "outputs": [
        {
          "output_type": "execute_result",
          "data": {
            "text/plain": [
              "(1609, 1609)"
            ]
          },
          "metadata": {
            "tags": []
          },
          "execution_count": 29
        }
      ]
    },
    {
      "cell_type": "markdown",
      "metadata": {
        "id": "Z5dMzJq8wmsz"
      },
      "source": [
        "**Model Buiding part**\r\n",
        "\r\n",
        "before giving input to the neural network we need to broadcast out x_train to a 3D vector as required by the neural network"
      ]
    },
    {
      "cell_type": "code",
      "metadata": {
        "id": "3NABRxexwjUY"
      },
      "source": [
        "x_train = np.reshape(x_train, (len(x_train), 1, 1))  "
      ],
      "execution_count": 30,
      "outputs": []
    },
    {
      "cell_type": "code",
      "metadata": {
        "colab": {
          "base_uri": "https://localhost:8080/"
        },
        "id": "aZrp3NX0w8PX",
        "outputId": "93150eee-f143-448c-cb02-70c60e59fc79"
      },
      "source": [
        "x_train[:10]"
      ],
      "execution_count": 31,
      "outputs": [
        {
          "output_type": "execute_result",
          "data": {
            "text/plain": [
              "array([[[0.02993635]],\n",
              "\n",
              "       [[0.02971433]],\n",
              "\n",
              "       [[0.02279455]],\n",
              "\n",
              "       [[0.01258141]],\n",
              "\n",
              "       [[0.00114713]],\n",
              "\n",
              "       [[0.        ]],\n",
              "\n",
              "       [[0.00614268]],\n",
              "\n",
              "       [[0.00592066]],\n",
              "\n",
              "       [[0.00462551]],\n",
              "\n",
              "       [[0.00865897]]])"
            ]
          },
          "metadata": {
            "tags": []
          },
          "execution_count": 31
        }
      ]
    },
    {
      "cell_type": "markdown",
      "metadata": {
        "id": "ZfUN4VUZxc7T"
      },
      "source": [
        "defining the paramters in the neural network here"
      ]
    },
    {
      "cell_type": "code",
      "metadata": {
        "id": "SRMlglXiw9Jt"
      },
      "source": [
        "num_units = 64\r\n",
        "activation_function = 'sigmoid'\r\n",
        "optimizer = 'adam'\r\n",
        "loss_function = 'mean_squared_error'\r\n",
        "batch_size = 10\r\n",
        "num_epochs = 50"
      ],
      "execution_count": 32,
      "outputs": []
    },
    {
      "cell_type": "code",
      "metadata": {
        "colab": {
          "base_uri": "https://localhost:8080/"
        },
        "id": "HcdT-TJVxuxJ",
        "outputId": "ff6133f6-c952-4add-8463-5b99dea95aeb"
      },
      "source": [
        "#trainig from the data 2010-08-04 to 30 days\r\n",
        "\r\n",
        "regressor = Sequential()\r\n",
        "\r\n",
        "# Adding the input layer and the LSTM layer\r\n",
        "regressor.add(LSTM(units = num_units, activation = activation_function, input_shape=(None, 1)))\r\n",
        "\r\n",
        "\r\n",
        "# Adding the output layer\r\n",
        "regressor.add(Dense(units = 1))\r\n",
        "\r\n",
        "# Compiling the RNN\r\n",
        "regressor.compile(optimizer = optimizer, loss = loss_function)\r\n",
        "\r\n",
        "# Using the training set to train the model\r\n",
        "regressor.fit(x_train, y_train, batch_size = batch_size, epochs = num_epochs)"
      ],
      "execution_count": 33,
      "outputs": [
        {
          "output_type": "stream",
          "text": [
            "WARNING:tensorflow:Layer lstm will not use cuDNN kernel since it doesn't meet the cuDNN kernel criteria. It will use generic GPU kernel as fallback when running on GPU\n",
            "Epoch 1/50\n",
            "161/161 [==============================] - 3s 4ms/step - loss: 0.1206\n",
            "Epoch 2/50\n",
            "161/161 [==============================] - 1s 4ms/step - loss: 0.0630\n",
            "Epoch 3/50\n",
            "161/161 [==============================] - 1s 4ms/step - loss: 0.0284\n",
            "Epoch 4/50\n",
            "161/161 [==============================] - 1s 4ms/step - loss: 0.0077\n",
            "Epoch 5/50\n",
            "161/161 [==============================] - 1s 4ms/step - loss: 0.0012\n",
            "Epoch 6/50\n",
            "161/161 [==============================] - 1s 4ms/step - loss: 3.4390e-04\n",
            "Epoch 7/50\n",
            "161/161 [==============================] - 1s 4ms/step - loss: 2.6556e-04\n",
            "Epoch 8/50\n",
            "161/161 [==============================] - 1s 4ms/step - loss: 2.5008e-04\n",
            "Epoch 9/50\n",
            "161/161 [==============================] - 1s 4ms/step - loss: 2.6594e-04\n",
            "Epoch 10/50\n",
            "161/161 [==============================] - 1s 4ms/step - loss: 2.8087e-04\n",
            "Epoch 11/50\n",
            "161/161 [==============================] - 1s 4ms/step - loss: 2.5763e-04\n",
            "Epoch 12/50\n",
            "161/161 [==============================] - 1s 4ms/step - loss: 2.5348e-04\n",
            "Epoch 13/50\n",
            "161/161 [==============================] - 1s 4ms/step - loss: 2.4991e-04\n",
            "Epoch 14/50\n",
            "161/161 [==============================] - 1s 4ms/step - loss: 2.7122e-04\n",
            "Epoch 15/50\n",
            "161/161 [==============================] - 1s 4ms/step - loss: 2.4347e-04\n",
            "Epoch 16/50\n",
            "161/161 [==============================] - 1s 4ms/step - loss: 2.4999e-04\n",
            "Epoch 17/50\n",
            "161/161 [==============================] - 1s 4ms/step - loss: 3.2333e-04\n",
            "Epoch 18/50\n",
            "161/161 [==============================] - 1s 4ms/step - loss: 2.5964e-04\n",
            "Epoch 19/50\n",
            "161/161 [==============================] - 1s 4ms/step - loss: 2.8451e-04\n",
            "Epoch 20/50\n",
            "161/161 [==============================] - 1s 4ms/step - loss: 2.6236e-04\n",
            "Epoch 21/50\n",
            "161/161 [==============================] - 1s 4ms/step - loss: 2.7025e-04\n",
            "Epoch 22/50\n",
            "161/161 [==============================] - 1s 4ms/step - loss: 3.0730e-04\n",
            "Epoch 23/50\n",
            "161/161 [==============================] - 1s 4ms/step - loss: 2.7015e-04\n",
            "Epoch 24/50\n",
            "161/161 [==============================] - 1s 4ms/step - loss: 2.8501e-04\n",
            "Epoch 25/50\n",
            "161/161 [==============================] - 1s 4ms/step - loss: 2.8071e-04\n",
            "Epoch 26/50\n",
            "161/161 [==============================] - 1s 4ms/step - loss: 2.9103e-04\n",
            "Epoch 27/50\n",
            "161/161 [==============================] - 1s 4ms/step - loss: 3.1449e-04\n",
            "Epoch 28/50\n",
            "161/161 [==============================] - 1s 4ms/step - loss: 2.9155e-04\n",
            "Epoch 29/50\n",
            "161/161 [==============================] - 1s 4ms/step - loss: 3.0189e-04\n",
            "Epoch 30/50\n",
            "161/161 [==============================] - 1s 4ms/step - loss: 2.9907e-04\n",
            "Epoch 31/50\n",
            "161/161 [==============================] - 1s 4ms/step - loss: 2.8014e-04\n",
            "Epoch 32/50\n",
            "161/161 [==============================] - 1s 4ms/step - loss: 3.3460e-04\n",
            "Epoch 33/50\n",
            "161/161 [==============================] - 1s 4ms/step - loss: 2.9139e-04\n",
            "Epoch 34/50\n",
            "161/161 [==============================] - 1s 4ms/step - loss: 2.8165e-04\n",
            "Epoch 35/50\n",
            "161/161 [==============================] - 1s 4ms/step - loss: 2.9252e-04\n",
            "Epoch 36/50\n",
            "161/161 [==============================] - 1s 4ms/step - loss: 2.7057e-04\n",
            "Epoch 37/50\n",
            "161/161 [==============================] - 1s 4ms/step - loss: 3.0096e-04\n",
            "Epoch 38/50\n",
            "161/161 [==============================] - 1s 4ms/step - loss: 2.9116e-04\n",
            "Epoch 39/50\n",
            "161/161 [==============================] - 1s 4ms/step - loss: 2.9756e-04\n",
            "Epoch 40/50\n",
            "161/161 [==============================] - 1s 4ms/step - loss: 3.5271e-04\n",
            "Epoch 41/50\n",
            "161/161 [==============================] - 1s 4ms/step - loss: 2.5289e-04\n",
            "Epoch 42/50\n",
            "161/161 [==============================] - 1s 4ms/step - loss: 3.1681e-04\n",
            "Epoch 43/50\n",
            "161/161 [==============================] - 1s 4ms/step - loss: 3.1952e-04\n",
            "Epoch 44/50\n",
            "161/161 [==============================] - 1s 4ms/step - loss: 3.1270e-04\n",
            "Epoch 45/50\n",
            "161/161 [==============================] - 1s 4ms/step - loss: 2.7951e-04\n",
            "Epoch 46/50\n",
            "161/161 [==============================] - 1s 4ms/step - loss: 2.9231e-04\n",
            "Epoch 47/50\n",
            "161/161 [==============================] - 1s 4ms/step - loss: 3.5085e-04\n",
            "Epoch 48/50\n",
            "161/161 [==============================] - 1s 4ms/step - loss: 3.0594e-04\n",
            "Epoch 49/50\n",
            "161/161 [==============================] - 1s 4ms/step - loss: 2.7297e-04\n",
            "Epoch 50/50\n",
            "161/161 [==============================] - 1s 4ms/step - loss: 3.2299e-04\n"
          ],
          "name": "stdout"
        },
        {
          "output_type": "execute_result",
          "data": {
            "text/plain": [
              "<tensorflow.python.keras.callbacks.History at 0x7f4d460ce668>"
            ]
          },
          "metadata": {
            "tags": []
          },
          "execution_count": 33
        }
      ]
    },
    {
      "cell_type": "markdown",
      "metadata": {
        "id": "nUsnZTJm2m4d"
      },
      "source": [
        "**Predcition on the validation data data**"
      ]
    },
    {
      "cell_type": "code",
      "metadata": {
        "id": "FUJDS71LyuB8"
      },
      "source": [
        "test_set = ts_valid.values\r\n",
        "\r\n",
        "inputs = np.reshape(test_set, (len(test_set), 1))                        # Reshape before passing in the input\r\n",
        "inputs = min_max_scaler.transform(inputs)                                # Scaling the data\r\n",
        "inputs = np.reshape(inputs, (len(inputs), 1, 1))\r\n",
        "\r\n",
        "predicted_price = regressor.predict(inputs)                              # Make predictions on the test data\r\n",
        "predicted_price = min_max_scaler.inverse_transform(predicted_price)      # Inverse transform the predicted price"
      ],
      "execution_count": 34,
      "outputs": []
    },
    {
      "cell_type": "code",
      "metadata": {
        "colab": {
          "base_uri": "https://localhost:8080/"
        },
        "id": "ndvMirhA2zeC",
        "outputId": "6ba6e7a7-89c6-41e6-d422-85c20469df8c"
      },
      "source": [
        "predicted_price  "
      ],
      "execution_count": 35,
      "outputs": [
        {
          "output_type": "execute_result",
          "data": {
            "text/plain": [
              "array([[189.54276],\n",
              "       [185.93835],\n",
              "       [185.44304],\n",
              "       [192.0266 ],\n",
              "       [193.97508],\n",
              "       [197.44472],\n",
              "       [196.92097],\n",
              "       [190.44344],\n",
              "       [190.27516],\n",
              "       [182.82687],\n",
              "       [182.42046],\n",
              "       [187.70126],\n",
              "       [186.76048],\n",
              "       [193.98499],\n",
              "       [193.13448],\n",
              "       [193.02565],\n",
              "       [193.2729 ],\n",
              "       [198.92665],\n",
              "       [199.45999],\n",
              "       [198.36357],\n",
              "       [203.21147],\n",
              "       [203.44829],\n",
              "       [209.42369],\n",
              "       [208.34955],\n",
              "       [209.08864],\n",
              "       [213.9045 ],\n",
              "       [219.99225],\n",
              "       [220.19862],\n",
              "       [215.22318],\n",
              "       [214.24898]], dtype=float32)"
            ]
          },
          "metadata": {
            "tags": []
          },
          "execution_count": 35
        }
      ]
    },
    {
      "cell_type": "code",
      "metadata": {
        "id": "Y0H5Xe2o216S"
      },
      "source": [
        "error=predicted_price-test_set   # check the errors in each prediction"
      ],
      "execution_count": 36,
      "outputs": []
    },
    {
      "cell_type": "code",
      "metadata": {
        "colab": {
          "base_uri": "https://localhost:8080/"
        },
        "id": "JUSTwJYp3EnE",
        "outputId": "1588c68f-d261-4fda-e9bf-f5d2de68569b"
      },
      "source": [
        "error"
      ],
      "execution_count": 37,
      "outputs": [
        {
          "output_type": "execute_result",
          "data": {
            "text/plain": [
              "array([[0.88275113],\n",
              "       [0.91835049],\n",
              "       [0.92303494],\n",
              "       [0.85659807],\n",
              "       [0.8350834 ],\n",
              "       [0.79472341],\n",
              "       [0.80097973],\n",
              "       [0.87342867],\n",
              "       [0.87516774],\n",
              "       [0.94686878],\n",
              "       [0.95045493],\n",
              "       [0.90126043],\n",
              "       [0.91047679],\n",
              "       [0.83499135],\n",
              "       [0.84448271],\n",
              "       [0.84565702],\n",
              "       [0.84291044],\n",
              "       [0.776657  ],\n",
              "       [0.76998946],\n",
              "       [0.78356917],\n",
              "       [0.72146656],\n",
              "       [0.71829196],\n",
              "       [0.6336978 ],\n",
              "       [0.64955134],\n",
              "       [0.63864131],\n",
              "       [0.56449924],\n",
              "       [0.46224954],\n",
              "       [0.45861866],\n",
              "       [0.54318205],\n",
              "       [0.55897566]])"
            ]
          },
          "metadata": {
            "tags": []
          },
          "execution_count": 37
        }
      ]
    },
    {
      "cell_type": "markdown",
      "metadata": {
        "id": "6mLc6mS_3LkA"
      },
      "source": [
        "Visualisation of the predcitions vs actual"
      ]
    },
    {
      "cell_type": "code",
      "metadata": {
        "colab": {
          "base_uri": "https://localhost:8080/",
          "height": 604
        },
        "id": "B-PYLBbS3HYH",
        "outputId": "3e63c885-f30b-4adb-cc47-2caa0b86f224"
      },
      "source": [
        "plt.figure(figsize=(8, 8), dpi=80, facecolor = 'w', edgecolor = 'k')\r\n",
        "\r\n",
        "plt.plot(test_set[:, 0], color='red', label='Real Tesla Price')                      # Actual Price\r\n",
        "plt.plot(predicted_price[:, 0], color = 'blue', label = 'Predicted Close Price')      # Predicted Price\r\n",
        "\r\n",
        "plt.title('Tesla Price Prediction ', fontsize = 20)\r\n",
        "plt.xlabel('Time', fontsize=40)\r\n",
        "plt.ylabel('Tesla Price', fontsize = 40)\r\n",
        "plt.legend(loc = 'best')\r\n",
        "plt.show()"
      ],
      "execution_count": 38,
      "outputs": [
        {
          "output_type": "display_data",
          "data": {
            "image/png": "[encoded data removed]",
            "text/plain": [
              "<Figure size 640x640 with 1 Axes>"
            ]
          },
          "metadata": {
            "tags": []
          }
        }
      ]
    },
    {
      "cell_type": "markdown",
      "metadata": {
        "id": "tMlUMqVMDhX7"
      },
      "source": [
        "The model performed satisfactory , now we will test the model with the 2017 data set which we kept for testing "
      ]
    },
    {
      "cell_type": "markdown",
      "metadata": {
        "id": "eB8HuKAR-2zY"
      },
      "source": [
        "**Prediction with the Test data**"
      ]
    },
    {
      "cell_type": "code",
      "metadata": {
        "colab": {
          "base_uri": "https://localhost:8080/",
          "height": 235
        },
        "id": "6KVmLWeC3SZQ",
        "outputId": "f24f1929-c714-492a-969e-d5d252e49f3e"
      },
      "source": [
        "test_df.head()"
      ],
      "execution_count": 69,
      "outputs": [
        {
          "output_type": "execute_result",
          "data": {
            "text/html": [
              "<div>\n",
              "<style scoped>\n",
              "    .dataframe tbody tr th:only-of-type {\n",
              "        vertical-align: middle;\n",
              "    }\n",
              "\n",
              "    .dataframe tbody tr th {\n",
              "        vertical-align: top;\n",
              "    }\n",
              "\n",
              "    .dataframe thead th {\n",
              "        text-align: right;\n",
              "    }\n",
              "</style>\n",
              "<table border=\"1\" class=\"dataframe\">\n",
              "  <thead>\n",
              "    <tr style=\"text-align: right;\">\n",
              "      <th></th>\n",
              "      <th>Close</th>\n",
              "    </tr>\n",
              "    <tr>\n",
              "      <th>Date</th>\n",
              "      <th></th>\n",
              "    </tr>\n",
              "  </thead>\n",
              "  <tbody>\n",
              "    <tr>\n",
              "      <th>2017-01-03</th>\n",
              "      <td>216.990005</td>\n",
              "    </tr>\n",
              "    <tr>\n",
              "      <th>2017-01-04</th>\n",
              "      <td>226.990005</td>\n",
              "    </tr>\n",
              "    <tr>\n",
              "      <th>2017-01-05</th>\n",
              "      <td>226.750000</td>\n",
              "    </tr>\n",
              "    <tr>\n",
              "      <th>2017-01-06</th>\n",
              "      <td>229.009995</td>\n",
              "    </tr>\n",
              "    <tr>\n",
              "      <th>2017-01-09</th>\n",
              "      <td>231.279999</td>\n",
              "    </tr>\n",
              "  </tbody>\n",
              "</table>\n",
              "</div>"
            ],
            "text/plain": [
              "                 Close\n",
              "Date                  \n",
              "2017-01-03  216.990005\n",
              "2017-01-04  226.990005\n",
              "2017-01-05  226.750000\n",
              "2017-01-06  229.009995\n",
              "2017-01-09  231.279999"
            ]
          },
          "metadata": {
            "tags": []
          },
          "execution_count": 69
        }
      ]
    },
    {
      "cell_type": "markdown",
      "metadata": {
        "id": "IkJyzs2d-2F8"
      },
      "source": [
        "We need to do feature enginnering before feeding into the network"
      ]
    },
    {
      "cell_type": "code",
      "metadata": {
        "id": "BGV2qTNF_sV8"
      },
      "source": [
        "test_data1=np.array(test_df)"
      ],
      "execution_count": 70,
      "outputs": []
    },
    {
      "cell_type": "code",
      "metadata": {
        "colab": {
          "base_uri": "https://localhost:8080/"
        },
        "id": "pl4NQDDCAyuK",
        "outputId": "2a3b8054-73fb-4821-b0d7-dc9227766fd9"
      },
      "source": [
        "test_data1[:10]"
      ],
      "execution_count": 71,
      "outputs": [
        {
          "output_type": "execute_result",
          "data": {
            "text/plain": [
              "array([[216.990005],\n",
              "       [226.990005],\n",
              "       [226.75    ],\n",
              "       [229.009995],\n",
              "       [231.279999],\n",
              "       [229.869995],\n",
              "       [229.729996],\n",
              "       [229.589996],\n",
              "       [237.75    ],\n",
              "       [235.580002]])"
            ]
          },
          "metadata": {
            "tags": []
          },
          "execution_count": 71
        }
      ]
    },
    {
      "cell_type": "code",
      "metadata": {
        "id": "6bL5hNbz_x0u"
      },
      "source": [
        "test_input=min_max_scaler.transform(test_data1) #normalising the values of data"
      ],
      "execution_count": 72,
      "outputs": []
    },
    {
      "cell_type": "code",
      "metadata": {
        "id": "t91_TbgT_1UA"
      },
      "source": [
        "test_input=np.reshape(test_input, (len(test_input), 1, 1)) #the 3d vector form required by the neural network"
      ],
      "execution_count": 73,
      "outputs": []
    },
    {
      "cell_type": "code",
      "metadata": {
        "id": "LYC22_ZL_6hI"
      },
      "source": [
        "test_prediction=regressor.predict(test_input)    # making prediction"
      ],
      "execution_count": 74,
      "outputs": []
    },
    {
      "cell_type": "code",
      "metadata": {
        "id": "38-1AFv1__Sw"
      },
      "source": [
        "test_prediction=min_max_scaler.inverse_transform(test_prediction) # converting back to the normal prize "
      ],
      "execution_count": 75,
      "outputs": []
    },
    {
      "cell_type": "code",
      "metadata": {
        "colab": {
          "base_uri": "https://localhost:8080/"
        },
        "id": "jhvvCxtXALu4",
        "outputId": "80641161-ea6c-4b6d-d70a-2378011816fa"
      },
      "source": [
        "test_prediction[:10]"
      ],
      "execution_count": 76,
      "outputs": [
        {
          "output_type": "execute_result",
          "data": {
            "text/plain": [
              "array([[217.49535],\n",
              "       [227.31624],\n",
              "       [227.08084],\n",
              "       [229.29698],\n",
              "       [231.52155],\n",
              "       [230.13992],\n",
              "       [230.0027 ],\n",
              "       [229.86548],\n",
              "       [237.8545 ],\n",
              "       [235.73172]], dtype=float32)"
            ]
          },
          "metadata": {
            "tags": []
          },
          "execution_count": 76
        }
      ]
    },
    {
      "cell_type": "code",
      "metadata": {
        "colab": {
          "base_uri": "https://localhost:8080/"
        },
        "id": "UAsHA-yOBVv3",
        "outputId": "e0bc6ea0-8eca-444a-8e70-526890ce6f34"
      },
      "source": [
        "test_df['Close'][:10]"
      ],
      "execution_count": 77,
      "outputs": [
        {
          "output_type": "execute_result",
          "data": {
            "text/plain": [
              "Date\n",
              "2017-01-03    216.990005\n",
              "2017-01-04    226.990005\n",
              "2017-01-05    226.750000\n",
              "2017-01-06    229.009995\n",
              "2017-01-09    231.279999\n",
              "2017-01-10    229.869995\n",
              "2017-01-11    229.729996\n",
              "2017-01-12    229.589996\n",
              "2017-01-13    237.750000\n",
              "2017-01-17    235.580002\n",
              "Name: Close, dtype: float64"
            ]
          },
          "metadata": {
            "tags": []
          },
          "execution_count": 77
        }
      ]
    },
    {
      "cell_type": "code",
      "metadata": {
        "id": "cED2N417BbV0"
      },
      "source": [
        "error=test_prediction-test_data1 # errors in prediction"
      ],
      "execution_count": 80,
      "outputs": []
    },
    {
      "cell_type": "code",
      "metadata": {
        "colab": {
          "base_uri": "https://localhost:8080/"
        },
        "id": "L3p3ECUKCAG6",
        "outputId": "78693f4e-4d06-454e-deef-4c8581a1eda2"
      },
      "source": [
        "error"
      ],
      "execution_count": 81,
      "outputs": [
        {
          "output_type": "execute_result",
          "data": {
            "text/plain": [
              "array([[ 0.50534107],\n",
              "       [ 0.3262334 ],\n",
              "       [ 0.33084106],\n",
              "       [ 0.28698681],\n",
              "       [ 0.24154641],\n",
              "       [ 0.2699281 ],\n",
              "       [ 0.27270481],\n",
              "       [ 0.27548252],\n",
              "       [ 0.10450745],\n",
              "       [ 0.15171797],\n",
              "       [ 0.09100303],\n",
              "       [-0.03305103],\n",
              "       [-0.05615262],\n",
              "       [-0.15917952],\n",
              "       [-0.30711404],\n",
              "       [-0.30335976],\n",
              "       [-0.2514043 ],\n",
              "       [-0.26298528],\n",
              "       [-0.20265209],\n",
              "       [-0.23626741],\n",
              "       [-0.16725109],\n",
              "       [-0.2263946 ],\n",
              "       [-0.22070329],\n",
              "       [-0.39337157],\n",
              "       [-0.38534547],\n",
              "       [-0.51583905],\n",
              "       [-0.73046854],\n",
              "       [-0.73138429],\n",
              "       [-1.1071166 ],\n",
              "       [-1.12036134],\n",
              "       [-1.07791161],\n",
              "       [-0.72265604],\n",
              "       [-0.82650758],\n",
              "       [-0.99685704],\n",
              "       [-0.86801171],\n",
              "       [-0.34445141],\n",
              "       [-0.37210083],\n",
              "       [-0.09246853],\n",
              "       [-0.18626354],\n",
              "       [-0.18704196],\n",
              "       [-0.19877652],\n",
              "       [-0.22688261],\n",
              "       [-0.21757536],\n",
              "       [-0.15089383],\n",
              "       [-0.10813892],\n",
              "       [-0.06022654],\n",
              "       [-0.03137163],\n",
              "       [-0.09100325],\n",
              "       [-0.39978027],\n",
              "       [-0.33732632],\n",
              "       [-0.51495382],\n",
              "       [-0.49902344]])"
            ]
          },
          "metadata": {
            "tags": []
          },
          "execution_count": 81
        }
      ]
    },
    {
      "cell_type": "markdown",
      "metadata": {
        "id": "gLnQ3zUjCHZj"
      },
      "source": [
        "Will plot the error to check the predictions"
      ]
    },
    {
      "cell_type": "code",
      "metadata": {
        "colab": {
          "base_uri": "https://localhost:8080/",
          "height": 574
        },
        "id": "1QngTBoACCee",
        "outputId": "d9126de7-1ba7-4d37-8851-ecf483f5e3d3"
      },
      "source": [
        "plt.figure(figsize=(8, 8), dpi=80, facecolor = 'w', edgecolor = 'k')\r\n",
        "\r\n",
        "plt.plot(test_data1[:, 0], color='red', label='Real Tesla Price')                      # Actual Price\r\n",
        "plt.plot(test_prediction[:, 0], color = 'blue', label = 'Predicted Close Price')      # Predicted Price\r\n",
        "\r\n",
        "plt.title('Tesla Price Prediction ', fontsize = 20)\r\n",
        "plt.xlabel('Time', fontsize=12)\r\n",
        "plt.ylabel('Tesla Price', fontsize = 12)\r\n",
        "plt.legend(loc = 'best')\r\n",
        "plt.show()\r\n",
        "\r\n"
      ],
      "execution_count": 82,
      "outputs": [
        {
          "output_type": "display_data",
          "data": {
            "image/png": "[encoded data removed]",
            "text/plain": [
              "<Figure size 640x640 with 1 Axes>"
            ]
          },
          "metadata": {
            "tags": []
          }
        }
      ]
    },
    {
      "cell_type": "markdown",
      "metadata": {
        "id": "6HyzkhuXEVsf"
      },
      "source": [
        "Model is able to predict the closing price very well by this LSTM model"
      ]
    },
    {
      "cell_type": "code",
      "metadata": {
        "id": "c-79TH6oCaX1"
      },
      "source": [
        ""
      ],
      "execution_count": null,
      "outputs": []
    }
  ]
}